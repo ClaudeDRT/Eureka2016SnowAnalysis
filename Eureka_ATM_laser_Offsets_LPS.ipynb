{
 "cells": [
  {
   "cell_type": "code",
   "execution_count": 1,
   "id": "d5648d36",
   "metadata": {},
   "outputs": [],
   "source": [
    "#Eureka ATM Laser Offsets\n",
    "# (calculates the altitudinal offsets between flyovers over the Eureka 2016 fyi and myi sites)\n",
    "# uses patches and averages the average of the altitudes of the laser data in the patches and uses,\n",
    "# and compares these mean-of-means altitudes for each flyover to calculate the offset\n",
    "#Claude de Rijke-Thomas\n",
    "#16th May 2022\n",
    "icetype = 'fyi'"
   ]
  },
  {
   "cell_type": "code",
   "execution_count": 2,
   "id": "b8ba8be0-bcb3-4bab-ae0c-ef1f2324fc94",
   "metadata": {},
   "outputs": [],
   "source": [
    "from LPS_functions import *"
   ]
  },
  {
   "cell_type": "code",
   "execution_count": 3,
   "id": "d1d15001",
   "metadata": {},
   "outputs": [
    {
     "name": "stdout",
     "output_type": "stream",
     "text": [
      "100% complete                  "
     ]
    }
   ],
   "source": [
    "#initialising empty arrays:\n",
    "lat = np.array([], dtype='double')\n",
    "lon = np.array([], dtype='double')\n",
    "b_as = np.array([],dtype='int')\n",
    "b_si = np.array([], dtype='int')\n",
    "snow_depth_dot_n = np.array([], dtype='double')\n",
    "\n",
    "insitu_data_filepath = '/Users/claudederijkethomas/Desktop/PhD/PYTHON/OIB/19-21Apr2016/SR/insitu_data_eureka.csv'\n",
    "\n",
    "#opening the csv file to read through (to make a loading bar of progress):\n",
    "line_count=0\n",
    "\n",
    "with open(insitu_data_filepath, 'r') as csvfile:\n",
    "    readCSV = csv.DictReader(csvfile)\n",
    "    #establishing the headers as the first line of the file:\n",
    "    headers = readCSV.fieldnames\n",
    "    for line in readCSV:\n",
    "        line_count+=1\n",
    "\n",
    "        \n",
    "#Timestamp,Counter,DepthCm,Latitude,Longitude,Site,IceType are the headers\n",
    "Timestamp = np.array([], dtype='str')\n",
    "Counter = np.array([], dtype='int')\n",
    "DepthCm = np.array([], dtype='double')\n",
    "Latitude = np.array([], dtype='double')\n",
    "Longitude = np.array([], dtype='double')\n",
    "Site = np.array([], dtype='str')\n",
    "IceType = np.array([], dtype='str')\n",
    "\n",
    "with open(insitu_data_filepath, 'r') as csvfile:\n",
    "    readCSV = csv.DictReader(csvfile)\n",
    "    #establishing the headers as the first line of the file:\n",
    "    headers = readCSV.fieldnames\n",
    "    count=-1\n",
    "    for line in readCSV:\n",
    "        count+=1\n",
    "        if count%1000==0:\n",
    "            sys.stdout.write(\"\\r\"+str(100*count/line_count)+\"% of the way \")\n",
    "        if str(line['Timestamp'][0:2]).isdigit():\n",
    "            if int(line['Timestamp'][0:2])>=15: # if data is taken on the 15th or later\n",
    "                if str(line['IceType'])==icetype:\n",
    "                    Timestamp = np.append(Timestamp, str(line['Timestamp']))\n",
    "                    Counter = np.append(Counter, int(line['Counter']))\n",
    "                    DepthCm = np.append(DepthCm, float(line['DepthCm']))\n",
    "                    Latitude = np.append(Latitude, float(line['Latitude']))\n",
    "                    Longitude = np.append(Longitude, float(line['Longitude']))\n",
    "                    Site = np.append(Site, str(line['Site']))\n",
    "                    IceType = np.append(IceType, str(line['IceType']))\n",
    "\n",
    "    sys.stdout.write(\"\\r\"+\"100% complete                 \")"
   ]
  },
  {
   "cell_type": "code",
   "execution_count": 4,
   "id": "86868ab8",
   "metadata": {},
   "outputs": [],
   "source": [
    "if icetype=='fyi':\n",
    "    coincident_ku_files = ['IRKUB1B_20160419_04_004_deconv.nc', 'IRKUB1B_20160419_04_032_deconv.nc', 'IRKUB1B_20160419_04_050_deconv.nc', 'IRKUB1B_20160419_04_080_deconv.nc',\\\n",
    "                           'IRKUB1B_20160419_04_180_deconv.nc', 'IRKUB1B_20160419_04_208_deconv.nc', 'IRKUB1B_20160419_04_230_deconv.nc', 'IRKUB1B_20160419_04_258_deconv.nc',\\\n",
    "                           'IRKUB1B_20160419_04_259_deconv.nc']\n",
    "    \n",
    "    ku_file = 'IRKUB1B_20160419_04_004_deconv.nc' #file that goes straight down the middle of the FYI in situ plot\n",
    "elif icetype=='myi':\n",
    "    coincident_ku_files = ['IRKUB1B_20160419_04_035_deconv.nc', 'IRKUB1B_20160419_04_047_deconv.nc', 'IRKUB1B_20160419_04_083_deconv.nc', 'IRKUB1B_20160419_04_176_deconv.nc',\\\n",
    "                           'IRKUB1B_20160419_04_211_deconv.nc', 'IRKUB1B_20160419_04_226_deconv.nc', 'IRKUB1B_20160419_04_262_deconv.nc']\n",
    "    \n",
    "    ku_file = 'IRKUB1B_20160419_04_226_deconv.nc' #file that goes straight down the middle of the MYI in situ plot"
   ]
  },
  {
   "cell_type": "code",
   "execution_count": 5,
   "id": "600b5014",
   "metadata": {},
   "outputs": [
    {
     "name": "stdout",
     "output_type": "stream",
     "text": [
      "1\n",
      "2\n",
      "3\n",
      "4\n",
      "5\n",
      "6\n",
      "7\n",
      "8\n",
      "9\n"
     ]
    }
   ],
   "source": [
    "lon_ku, lat_ku, alt_ku, pitch_angle, roll_angle, aircraft_alt_ku, appropriate_indices = KuBandSurface(ku_file, threshold_fraction=0.7)\n",
    "patch_size=100\n",
    "LSxs,LSys = xysEveryLengthScale(lon_ku,lat_ku, patch_size, track_break_off_length=5000, coordtype='degrees')\n",
    "\n",
    "\"\"\"finding the ATM laser data KDTree that corresponds to the each ku file for each flyover\"\"\"\n",
    "coords_every_LS = np.column_stack((LSxs,LSys)) # xy coordinates every length scale\n",
    "\n",
    "patch_atm_alts_means_tot = []\n",
    "patch_atm_alts_stds_tot = []\n",
    "patch_ku_alts_means_tot = []\n",
    "patch_atm_rolls_means_tot = []\n",
    "patch_atm_pitches_means_tot = []\n",
    "#need to make sure that there's corresponding ATM data so use _filt:\n",
    "for i, ku_file in enumerate(coincident_ku_files):\n",
    "\n",
    "    #I need the corresponing atm file and the altitudes of the atm laser data:\n",
    "    print(i+1)\n",
    "    x_ku,y_ku,alt_ku, pitch_ku, roll_ku, aircraft_alt_ku, azi_angle, appropriate_indices = correctEastNorthKu(ku_file, coord_sys=\"ease\")\n",
    "\n",
    "    h5_files = []\n",
    "    for coinc in coincidence_arr:\n",
    "        for sub_arr in coinc:\n",
    "            if ku_file in sub_arr:\n",
    "                #finding the kdtree that corresponds to the atm laser data file that coincides with ku_file:\n",
    "                h5_files.append(coinc[0])\n",
    "    h5_files = list(dict.fromkeys(h5_files))\n",
    "    atm = projectedLaser(h5_files, \"ease\")\n",
    "    x_atm,y_atm = atm.east, atm.north\n",
    "\n",
    "    atmKDTree = spatial.cKDTree(np.column_stack((x_atm, y_atm)))\n",
    "    kuKDTree = spatial.cKDTree(np.column_stack((x_ku, y_ku)))\n",
    "    #empty 2D array for the ATM indices for the data corresponding to each patch:\n",
    "    atm_LS_patches_indices_arr = []\n",
    "    ku_LS_patches_indices_arr = []\n",
    "    #looping over the centres of the patches that we'll calculate averages of:\n",
    "    for coord in coords_every_LS:\n",
    "        atm_neigh_list = []\n",
    "        ku_neigh_list = []\n",
    "        ku_neigh_list.append(kuKDTree.query_ball_point(coord,r=patch_size/2))\n",
    "        atm_neigh_list.append(atmKDTree.query_ball_point(coord,r=patch_size/2))\n",
    "        try:\n",
    "            atm_neigh_indices = [atm_neigh_list[0][i] for i in range(len(atm_neigh_list[0]))]\n",
    "        except:\n",
    "            atm_neigh_indices = []\n",
    "            raise\n",
    "        try:\n",
    "            ku_neigh_indices = [ku_neigh_list[0][i] for i in range(len(ku_neigh_list[0]))]\n",
    "        except:\n",
    "            ku_neigh_indicies = []\n",
    "            raise\n",
    "        atm_LS_patches_indices_arr.append(atm_neigh_indices)\n",
    "        ku_LS_patches_indices_arr.append(ku_neigh_indices)\n",
    "\n",
    "    patch_atm_alts_means = []\n",
    "    patch_atm_alts_stds = []\n",
    "    patch_atm_rolls_means = []\n",
    "    patch_atm_pitches_means= []\n",
    "    #'patch' represents a bunch of atm indices that correspond to one of the particular length-scale patches in question:\n",
    "    for patch_indices in atm_LS_patches_indices_arr:\n",
    "        patch_atm_alts_means.append(np.nanmean([atm.alt[patch_indices[j]] for j in range(len(patch_indices))]))\n",
    "        patch_atm_alts_stds.append(np.nanstd([atm.alt[patch_indices[j]] for j in range(len(patch_indices))], ddof=1))\n",
    "        patch_atm_rolls_means.append(np.nanmean([atm.roll[patch_indices[j]] for j in range(len(patch_indices))]))\n",
    "        patch_atm_pitches_means.append(np.nanmean([atm.pitch[patch_indices[j]] for j in range(len(patch_indices))]))\n",
    "    patch_ku_alts_means = []\n",
    "    for patch_indices in ku_LS_patches_indices_arr:\n",
    "        patch_ku_alts_means.append(np.nanmean([alt_ku[patch_indices[j]] for j in range(len(patch_indices))]))\n",
    "    patch_atm_alts_means_tot.append(patch_atm_alts_means)\n",
    "    patch_atm_alts_stds_tot.append(patch_atm_alts_stds)\n",
    "    patch_atm_rolls_means_tot.append(patch_atm_rolls_means)\n",
    "    patch_atm_pitches_means_tot.append(patch_atm_pitches_means)\n",
    "    patch_ku_alts_means_tot.append(patch_ku_alts_means)"
   ]
  },
  {
   "cell_type": "code",
   "execution_count": 6,
   "id": "80c0ee1d",
   "metadata": {},
   "outputs": [],
   "source": [
    "mean_atm_elev_each_flyover = np.mean(patch_atm_alts_means_tot,axis=1)\n",
    "atm_elev_flyover_offsets = mean_atm_elev_each_flyover-np.mean(mean_atm_elev_each_flyover)"
   ]
  },
  {
   "cell_type": "code",
   "execution_count": 7,
   "id": "b9f8d10d",
   "metadata": {},
   "outputs": [
    {
     "data": {
      "text/plain": [
       "Text(0.5, 1.0, 'FYI')"
      ]
     },
     "execution_count": 7,
     "metadata": {},
     "output_type": "execute_result"
    },
    {
     "data": {
      "image/png": "[encoded data removed]",
      "text/plain": [
       "<Figure size 432x288 with 1 Axes>"
      ]
     },
     "metadata": {
      "needs_background": "light"
     },
     "output_type": "display_data"
    }
   ],
   "source": [
    "plt.plot(mean_atm_elev_each_flyover, 'r.-',markersize=10)\n",
    "plt.xticks(range(len(mean_atm_elev_each_flyover)),labels =np.arange(1,len(mean_atm_elev_each_flyover)+1));\n",
    "plt.ylabel(\"ATM laser mean of \\npatch altitude means\", fontsize=17)\n",
    "plt.xlabel(\"flyover number\", fontsize=17)\n",
    "plt.title(icetype.upper(), fontsize=22)"
   ]
  },
  {
   "cell_type": "code",
   "execution_count": 8,
   "id": "a6b3fa7c",
   "metadata": {},
   "outputs": [],
   "source": [
    "#fyi : [-0.00142218, -0.00882589, -0.0182781,  -0.01468046, -0.06314833,  0.0375774, 0.02246962,  0.02315396,  0.02315396]\n",
    "# myi : [-0.01541401, -0.02724434, -0.00367711, -0.05813091, 0.03078281,  0.03742214, 0.03626142]"
   ]
  },
  {
   "cell_type": "code",
   "execution_count": null,
   "id": "2892e27a-fa0f-4d51-810a-7baba08f7086",
   "metadata": {},
   "outputs": [],
   "source": []
  }
 ],
 "metadata": {
  "kernelspec": {
   "display_name": "Python 3 (ipykernel)",
   "language": "python",
   "name": "python3"
  },
  "language_info": {
   "codemirror_mode": {
    "name": "ipython",
    "version": 3
   },
   "file_extension": ".py",
   "mimetype": "text/x-python",
   "name": "python",
   "nbconvert_exporter": "python",
   "pygments_lexer": "ipython3",
   "version": "3.8.2"
  }
 },
 "nbformat": 4,
 "nbformat_minor": 5
}
